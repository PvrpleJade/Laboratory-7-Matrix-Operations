{
  "nbformat": 4,
  "nbformat_minor": 0,
  "metadata": {
    "colab": {
      "name": "58011_Lab7_SANTOS",
      "provenance": [],
      "collapsed_sections": [],
      "authorship_tag": "ABX9TyOV+gm9aS9gm5zgpt93zlI7",
      "include_colab_link": true
    },
    "kernelspec": {
      "name": "python3",
      "display_name": "Python 3"
    }
  },
  "cells": [
    {
      "cell_type": "markdown",
      "metadata": {
        "id": "view-in-github",
        "colab_type": "text"
      },
      "source": [
        "<a href=\"https://colab.research.google.com/github/PvrpleJade/Laboratory-7-Matrix-Operations/blob/main/58011_Lab7_SANTOS.ipynb\" target=\"_parent\"><img src=\"https://colab.research.google.com/assets/colab-badge.svg\" alt=\"Open In Colab\"/></a>"
      ]
    },
    {
      "cell_type": "markdown",
      "metadata": {
        "id": "4WFE8FIh5ebF"
      },
      "source": [
        "# ACTIVITY\n",
        "## Task 1\n",
        "Prove and implement the remaining 6 matrix multiplication properties. You may create your own matrices in which their shapes should not be lower than $(3,3)$. In your methodology, create individual flowcharts for each property and discuss the property you would then present your proofs or validity of your implementation in the results section by comparing your result to present functions from NumPy."
      ]
    },
    {
      "cell_type": "code",
      "metadata": {
        "id": "oqF2s9Yx5YHg"
      },
      "source": [
        "import numpy as np\n",
        "import matplotlib.pyplot as plt\n",
        "from numpy.linalg import multi_dot\n",
        "%matplotlib inline"
      ],
      "execution_count": null,
      "outputs": []
    },
    {
      "cell_type": "markdown",
      "metadata": {
        "id": "IV8rRbBJ6Fpy"
      },
      "source": [
        "# 1. $A \\cdot B \\neq B \\cdot A$"
      ]
    },
    {
      "cell_type": "code",
      "metadata": {
        "id": "-OSLCtLw5-Aa"
      },
      "source": [
        "A = np.array([\n",
        "    [1 ,3, 5],\n",
        "    [2, -3, 6],\n",
        "    [4, 6, -8]\n",
        "])\n",
        "B = np.array([\n",
        "    [2 ,1, 3],\n",
        "    [-5, 2, 7],\n",
        "    [4, -1, -6]\n",
        "])\n",
        "\n",
        "\n"
      ],
      "execution_count": null,
      "outputs": []
    },
    {
      "cell_type": "code",
      "metadata": {
        "id": "0OdKNkqU_-4g",
        "colab": {
          "base_uri": "https://localhost:8080/",
          "height": 70
        },
        "outputId": "0a0a6f69-9461-4bbd-c603-d0552f262cb1"
      },
      "source": [
        "np.dot(A,B)"
      ],
      "execution_count": null,
      "outputs": [
        {
          "output_type": "execute_result",
          "data": {
            "text/plain": [
              "array([[  7,   2,  -6],\n",
              "       [ 43, -10, -51],\n",
              "       [-54,  24, 102]])"
            ]
          },
          "metadata": {
            "tags": []
          },
          "execution_count": 19
        }
      ]
    },
    {
      "cell_type": "code",
      "metadata": {
        "id": "mrVOYJpTC5Po",
        "colab": {
          "base_uri": "https://localhost:8080/",
          "height": 70
        },
        "outputId": "d038b098-811a-41a9-8c3e-c800b3a107f1"
      },
      "source": [
        "np.dot(B,A)"
      ],
      "execution_count": null,
      "outputs": [
        {
          "output_type": "execute_result",
          "data": {
            "text/plain": [
              "array([[ 16,  21,  -8],\n",
              "       [ 27,  21, -69],\n",
              "       [-22, -21,  62]])"
            ]
          },
          "metadata": {
            "tags": []
          },
          "execution_count": 21
        }
      ]
    },
    {
      "cell_type": "code",
      "metadata": {
        "id": "IdAk0cvcDFzP",
        "colab": {
          "base_uri": "https://localhost:8080/",
          "height": 34
        },
        "outputId": "6b3778df-40b0-4c66-fc40-fd605d60eace"
      },
      "source": [
        "np.array_equiv(A.dot(B),B.dot(A))"
      ],
      "execution_count": null,
      "outputs": [
        {
          "output_type": "execute_result",
          "data": {
            "text/plain": [
              "False"
            ]
          },
          "metadata": {
            "tags": []
          },
          "execution_count": 25
        }
      ]
    },
    {
      "cell_type": "code",
      "metadata": {
        "id": "8DCxC6iMv5vP"
      },
      "source": [
        ""
      ],
      "execution_count": null,
      "outputs": []
    },
    {
      "cell_type": "markdown",
      "metadata": {
        "id": "qsbngSyy6wdm"
      },
      "source": [
        "# 2. $A \\cdot (B \\cdot C) = (A \\cdot B) \\cdot C$\n"
      ]
    },
    {
      "cell_type": "code",
      "metadata": {
        "id": "L9TWpUQA66_q"
      },
      "source": [
        "A = np.array([\n",
        "    [1 ,3, 5],\n",
        "    [2, -3, 6],\n",
        "    [4, 6, -8]\n",
        "])\n",
        "B = np.array([\n",
        "    [2 ,1, 3],\n",
        "    [-5, 2, 7],\n",
        "    [4, -1, -6]\n",
        "])\n",
        "C = np.array([\n",
        "    [1 ,2, 3],\n",
        "    [4, 5, 6],\n",
        "    [7, 8, 9]\n",
        "])\n",
        "\n",
        "\n",
        "\n"
      ],
      "execution_count": null,
      "outputs": []
    },
    {
      "cell_type": "code",
      "metadata": {
        "id": "1zCyiq49EDTq",
        "colab": {
          "base_uri": "https://localhost:8080/",
          "height": 70
        },
        "outputId": "e5898c21-c9d7-443d-cd76-dfd2e2dfe6b5"
      },
      "source": [
        "np.dot(B,C)"
      ],
      "execution_count": null,
      "outputs": [
        {
          "output_type": "execute_result",
          "data": {
            "text/plain": [
              "array([[ 27,  33,  39],\n",
              "       [ 52,  56,  60],\n",
              "       [-42, -45, -48]])"
            ]
          },
          "metadata": {
            "tags": []
          },
          "execution_count": 29
        }
      ]
    },
    {
      "cell_type": "code",
      "metadata": {
        "id": "mkT27QToEYPW",
        "colab": {
          "base_uri": "https://localhost:8080/",
          "height": 70
        },
        "outputId": "a34c4fa6-49a7-4f8c-866c-32047e512668"
      },
      "source": [
        "D = multi_dot([A,B,C])\n",
        "D"
      ],
      "execution_count": null,
      "outputs": [
        {
          "output_type": "execute_result",
          "data": {
            "text/plain": [
              "array([[ -27,  -24,  -21],\n",
              "       [-354, -372, -390],\n",
              "       [ 756,  828,  900]])"
            ]
          },
          "metadata": {
            "tags": []
          },
          "execution_count": 46
        }
      ]
    },
    {
      "cell_type": "code",
      "metadata": {
        "id": "3d7867k5Fwu6",
        "colab": {
          "base_uri": "https://localhost:8080/",
          "height": 70
        },
        "outputId": "9f764f49-5fc9-4f6b-8329-df34507152d3"
      },
      "source": [
        "np.dot(A,B)"
      ],
      "execution_count": null,
      "outputs": [
        {
          "output_type": "execute_result",
          "data": {
            "text/plain": [
              "array([[  7,   2,  -6],\n",
              "       [ 43, -10, -51],\n",
              "       [-54,  24, 102]])"
            ]
          },
          "metadata": {
            "tags": []
          },
          "execution_count": 37
        }
      ]
    },
    {
      "cell_type": "code",
      "metadata": {
        "id": "z236tfPOF15H",
        "colab": {
          "base_uri": "https://localhost:8080/",
          "height": 70
        },
        "outputId": "def42679-59f4-4eba-97c1-ef5e854a3a31"
      },
      "source": [
        "E = multi_dot([A,B,C])\n",
        "E"
      ],
      "execution_count": null,
      "outputs": [
        {
          "output_type": "execute_result",
          "data": {
            "text/plain": [
              "array([[ -27,  -24,  -21],\n",
              "       [-354, -372, -390],\n",
              "       [ 756,  828,  900]])"
            ]
          },
          "metadata": {
            "tags": []
          },
          "execution_count": 47
        }
      ]
    },
    {
      "cell_type": "code",
      "metadata": {
        "id": "iTuayrfAGcNd",
        "colab": {
          "base_uri": "https://localhost:8080/",
          "height": 34
        },
        "outputId": "5249f173-59ba-4dab-ad53-5d50a320fa96"
      },
      "source": [
        "np.array_equiv(D.dot(E),E.dot(D))"
      ],
      "execution_count": null,
      "outputs": [
        {
          "output_type": "execute_result",
          "data": {
            "text/plain": [
              "True"
            ]
          },
          "metadata": {
            "tags": []
          },
          "execution_count": 48
        }
      ]
    },
    {
      "cell_type": "code",
      "metadata": {
        "id": "8wUP__nCv69D"
      },
      "source": [
        ""
      ],
      "execution_count": null,
      "outputs": []
    },
    {
      "cell_type": "markdown",
      "metadata": {
        "id": "KAD6xuF4Hbvv"
      },
      "source": [
        "# 3. $A\\cdot(B+C) = A\\cdot B + A\\cdot C$"
      ]
    },
    {
      "cell_type": "code",
      "metadata": {
        "id": "Dx-0TfvjH7Rv"
      },
      "source": [
        "A = np.array([\n",
        "    [1 ,3, 5],\n",
        "    [2, -3, 6],\n",
        "    [4, 6, -8]\n",
        "])\n",
        "B = np.array([\n",
        "    [2 ,1, 3],\n",
        "    [-5, 2, 7],\n",
        "    [4, -1, -6]\n",
        "])\n",
        "C = np.array([\n",
        "    [1 ,2, 3],\n",
        "    [4, 5, 6],\n",
        "    [7, 8, 9]\n",
        "])\n",
        "\n",
        "\n",
        "\n"
      ],
      "execution_count": null,
      "outputs": []
    },
    {
      "cell_type": "code",
      "metadata": {
        "id": "kgZkCNZEK0mh",
        "colab": {
          "base_uri": "https://localhost:8080/",
          "height": 70
        },
        "outputId": "b0dfda73-3b43-429f-97a5-80881f829aa1"
      },
      "source": [
        "A.dot(B+C)"
      ],
      "execution_count": null,
      "outputs": [
        {
          "output_type": "execute_result",
          "data": {
            "text/plain": [
              "array([[ 55,  59,  60],\n",
              "       [ 75,  27,  -9],\n",
              "       [-82,  -2,  78]])"
            ]
          },
          "metadata": {
            "tags": []
          },
          "execution_count": 49
        }
      ]
    },
    {
      "cell_type": "code",
      "metadata": {
        "id": "bog5D-SBK6z8",
        "colab": {
          "base_uri": "https://localhost:8080/",
          "height": 70
        },
        "outputId": "f5c5dc98-2c82-46b2-e7c3-1a375ae5b636"
      },
      "source": [
        "A.dot(B) + A.dot(C)"
      ],
      "execution_count": null,
      "outputs": [
        {
          "output_type": "execute_result",
          "data": {
            "text/plain": [
              "array([[ 55,  59,  60],\n",
              "       [ 75,  27,  -9],\n",
              "       [-82,  -2,  78]])"
            ]
          },
          "metadata": {
            "tags": []
          },
          "execution_count": 50
        }
      ]
    },
    {
      "cell_type": "code",
      "metadata": {
        "id": "wrKahah7LFKn",
        "colab": {
          "base_uri": "https://localhost:8080/",
          "height": 34
        },
        "outputId": "0aafe05b-1bdf-477d-8d2d-ae95867101a7"
      },
      "source": [
        "np.array_equiv(A.dot(B+C),A.dot(B) + A.dot(C))"
      ],
      "execution_count": null,
      "outputs": [
        {
          "output_type": "execute_result",
          "data": {
            "text/plain": [
              "True"
            ]
          },
          "metadata": {
            "tags": []
          },
          "execution_count": 51
        }
      ]
    },
    {
      "cell_type": "code",
      "metadata": {
        "id": "ivXYrFTxv8dk"
      },
      "source": [
        ""
      ],
      "execution_count": null,
      "outputs": []
    },
    {
      "cell_type": "markdown",
      "metadata": {
        "id": "3YOUp-EpLVWT"
      },
      "source": [
        "# 4. $(B+C)\\cdot A = B\\cdot A + C\\cdot A$"
      ]
    },
    {
      "cell_type": "code",
      "metadata": {
        "id": "oFLXUVShLwbx"
      },
      "source": [
        "A = np.array([\n",
        "    [1 ,3, 5],\n",
        "    [2, -3, 6],\n",
        "    [4, 6, -8]\n",
        "])\n",
        "B = np.array([\n",
        "    [2 ,1, 3],\n",
        "    [-5, 2, 7],\n",
        "    [4, -1, -6]\n",
        "])\n",
        "C = np.array([\n",
        "    [1 ,2, 3],\n",
        "    [4, 5, 6],\n",
        "    [7, 8, 9]\n",
        "])\n",
        "\n",
        "\n",
        "\n"
      ],
      "execution_count": null,
      "outputs": []
    },
    {
      "cell_type": "code",
      "metadata": {
        "id": "o35paFhkLaz9",
        "colab": {
          "base_uri": "https://localhost:8080/",
          "height": 70
        },
        "outputId": "ba5cf2c5-d099-4a89-e512-90db58f550ea"
      },
      "source": [
        "D = B+C\n",
        "D"
      ],
      "execution_count": null,
      "outputs": [
        {
          "output_type": "execute_result",
          "data": {
            "text/plain": [
              "array([[ 3,  3,  6],\n",
              "       [-1,  7, 13],\n",
              "       [11,  7,  3]])"
            ]
          },
          "metadata": {
            "tags": []
          },
          "execution_count": 65
        }
      ]
    },
    {
      "cell_type": "code",
      "metadata": {
        "id": "31KD7reqMOHE",
        "colab": {
          "base_uri": "https://localhost:8080/",
          "height": 70
        },
        "outputId": "3e601332-707d-407a-e2e1-b9a7898c6c6c"
      },
      "source": [
        "D.dot(A)"
      ],
      "execution_count": null,
      "outputs": [
        {
          "output_type": "execute_result",
          "data": {
            "text/plain": [
              "array([[ 33,  36, -15],\n",
              "       [ 65,  54, -67],\n",
              "       [ 37,  30,  73]])"
            ]
          },
          "metadata": {
            "tags": []
          },
          "execution_count": 66
        }
      ]
    },
    {
      "cell_type": "code",
      "metadata": {
        "id": "oeLVFxA1Lx9a",
        "colab": {
          "base_uri": "https://localhost:8080/",
          "height": 70
        },
        "outputId": "f1fd058f-fb2c-46f1-f24f-b1fbeef20670"
      },
      "source": [
        "B.dot(A) + C.dot(A)"
      ],
      "execution_count": null,
      "outputs": [
        {
          "output_type": "execute_result",
          "data": {
            "text/plain": [
              "array([[ 33,  36, -15],\n",
              "       [ 65,  54, -67],\n",
              "       [ 37,  30,  73]])"
            ]
          },
          "metadata": {
            "tags": []
          },
          "execution_count": 56
        }
      ]
    },
    {
      "cell_type": "code",
      "metadata": {
        "id": "AKL86_4wMYF-",
        "colab": {
          "base_uri": "https://localhost:8080/",
          "height": 34
        },
        "outputId": "0aa200d0-1faf-4de8-e552-47741eb193bd"
      },
      "source": [
        "np.array_equiv(D.dot(A),B.dot(A) + C.dot(A))"
      ],
      "execution_count": null,
      "outputs": [
        {
          "output_type": "execute_result",
          "data": {
            "text/plain": [
              "True"
            ]
          },
          "metadata": {
            "tags": []
          },
          "execution_count": 67
        }
      ]
    },
    {
      "cell_type": "code",
      "metadata": {
        "id": "UF6V0yhmv9DY"
      },
      "source": [
        ""
      ],
      "execution_count": null,
      "outputs": []
    },
    {
      "cell_type": "markdown",
      "metadata": {
        "id": "tCbH-Cqjcnnq"
      },
      "source": [
        "# 5. $A\\cdot I = A$"
      ]
    },
    {
      "cell_type": "code",
      "metadata": {
        "id": "3sRfvuStctrO"
      },
      "source": [
        ""
      ],
      "execution_count": null,
      "outputs": []
    },
    {
      "cell_type": "code",
      "metadata": {
        "id": "_Pdn2wIidEFY",
        "colab": {
          "base_uri": "https://localhost:8080/",
          "height": 70
        },
        "outputId": "ee7e0422-7f9f-456a-eb1d-23a6cb5ff3ed"
      },
      "source": [
        "I = np.array(A.dot(np.linalg.inv(A)), dtype =int)\n",
        "I"
      ],
      "execution_count": null,
      "outputs": [
        {
          "output_type": "execute_result",
          "data": {
            "text/plain": [
              "array([[1, 0, 0],\n",
              "       [0, 1, 0],\n",
              "       [0, 0, 1]])"
            ]
          },
          "metadata": {
            "tags": []
          },
          "execution_count": 79
        }
      ]
    },
    {
      "cell_type": "code",
      "metadata": {
        "id": "P_yVrF5ne2tY",
        "colab": {
          "base_uri": "https://localhost:8080/",
          "height": 70
        },
        "outputId": "0bb95c79-1939-4797-8ca0-bd2892667ea0"
      },
      "source": [
        "A.dot(I)"
      ],
      "execution_count": null,
      "outputs": [
        {
          "output_type": "execute_result",
          "data": {
            "text/plain": [
              "array([[ 1,  3,  5],\n",
              "       [ 2, -3,  6],\n",
              "       [ 4,  6, -8]])"
            ]
          },
          "metadata": {
            "tags": []
          },
          "execution_count": 84
        }
      ]
    },
    {
      "cell_type": "code",
      "metadata": {
        "id": "HUL100Y0fIjF",
        "colab": {
          "base_uri": "https://localhost:8080/",
          "height": 34
        },
        "outputId": "2070a99f-1cf5-4734-8642-caa9922fd974"
      },
      "source": [
        "np.array_equiv(A.dot(I),A)"
      ],
      "execution_count": null,
      "outputs": [
        {
          "output_type": "execute_result",
          "data": {
            "text/plain": [
              "True"
            ]
          },
          "metadata": {
            "tags": []
          },
          "execution_count": 86
        }
      ]
    }
  ]
}